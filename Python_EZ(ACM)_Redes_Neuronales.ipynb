{
  "nbformat": 4,
  "nbformat_minor": 0,
  "metadata": {
    "colab": {
      "name": "Python EZ(ACM) - Redes Neuronales.ipynb",
      "provenance": [],
      "collapsed_sections": [
        "GrK18wQpxHwD",
        "HjG-vjzaxhrs",
        "Dc9v323k6Yzg"
      ],
      "authorship_tag": "ABX9TyNhdfSzDqIvHhO9avppa6r5",
      "include_colab_link": true
    },
    "kernelspec": {
      "name": "python3",
      "display_name": "Python 3"
    },
    "language_info": {
      "name": "python"
    }
  },
  "cells": [
    {
      "cell_type": "markdown",
      "metadata": {
        "id": "view-in-github",
        "colab_type": "text"
      },
      "source": [
        "<a href=\"https://colab.research.google.com/github/Dysaca22/Python-EZ-ACM-/blob/main/Python_EZ(ACM)_Redes_Neuronales.ipynb\" target=\"_parent\"><img src=\"https://colab.research.google.com/assets/colab-badge.svg\" alt=\"Open In Colab\"/></a>"
      ]
    },
    {
      "cell_type": "markdown",
      "source": [
        "#Redes Neuronales"
      ],
      "metadata": {
        "id": "TGUaP8i-sWj_"
      }
    },
    {
      "cell_type": "markdown",
      "source": [
        "Libreria Sklearn - redes neuronales \\\\\n",
        "https://scikit-learn.org/stable/modules/neural_networks_supervised.html\n",
        "\n",
        "\n",
        "Libreria Sklearn - datasets (Iris) \\\\\n",
        "https://scikit-learn.org/stable/modules/generated/sklearn.datasets.load_iris.html\n",
        "\n",
        "Libreria Sklearn - train_test_split \\\\\n",
        "https://scikit-learn.org/stable/modules/generated/sklearn.model_selection.train_test_split.html?highlight=train_test_split#sklearn.model_selection.train_test_split\n",
        "\n",
        "Libreria Sklearn - matriz de confusión \\\\\n",
        "https://scikit-learn.org/stable/modules/generated/sklearn.metrics.confusion_matrix.html\n",
        "\n",
        "Libreria Sklearn - score de precisión \\\\\n",
        "https://scikit-learn.org/stable/modules/generated/sklearn.metrics.accuracy_score.html\n",
        "\n",
        "Libreria tensorflow - redes neuronales \\\\\n",
        "https://www.tensorflow.org/\n",
        "\n",
        "Libreria tensorflow.keras.models - agrupa capas \\\\\n",
        "https://www.tensorflow.org/api_docs/python/tf/keras/Model\n",
        "\n",
        "Libreria tensorflow.keras.layers - API \\\\\n",
        "https://www.tensorflow.org/api_docs/python/tf/keras/Input\n",
        "\n",
        "Libreria tensorflow.keras.callbacks - retroceso \\\\\n",
        "https://www.tensorflow.org/api_docs/python/tf/keras/callbacks/Callback"
      ],
      "metadata": {
        "id": "25usGsH7stmK"
      }
    },
    {
      "cell_type": "markdown",
      "source": [
        "## Prueba #1 - datos generados"
      ],
      "metadata": {
        "id": "GrK18wQpxHwD"
      }
    },
    {
      "cell_type": "markdown",
      "source": [
        "### Definir el conjunto y modelo a usar para predicción de datos"
      ],
      "metadata": {
        "id": "htOnbFpluVDT"
      }
    },
    {
      "cell_type": "code",
      "execution_count": null,
      "metadata": {
        "id": "5Ql1Z50_btrQ"
      },
      "outputs": [],
      "source": [
        "# Importamos la libreria (redes neurionales por clasificación)\n",
        "from sklearn.neural_network import MLPClassifier\n",
        "# Creamos el conjunto de datos de entrada (tener en cuenta que es de dimensión 2 cada elemeneto)\n",
        "X = [[0., 0.], [1., 1.]]\n",
        "# Creamos el conjunto de datos de salida (no tienen que ser de la misma dimesión que los de entrada)\n",
        "y = [0, 1]\n",
        "# Definimos el modelo MLPClassifier (predecir a que clase pertenecen un conjunto de datos usando redes neuronales)\n",
        "clf = MLPClassifier(solver='lbfgs', alpha=1e-5, hidden_layer_sizes=(5, 2), random_state=1)\n",
        "  # Dos capas ocultas una de 5 neuronas y otra de 2 neuronas"
      ]
    },
    {
      "cell_type": "markdown",
      "source": [
        "### Entrenamos los datos"
      ],
      "metadata": {
        "id": "nh0VDIJwub66"
      }
    },
    {
      "cell_type": "code",
      "source": [
        "clf.fit(X, y)"
      ],
      "metadata": {
        "colab": {
          "base_uri": "https://localhost:8080/"
        },
        "id": "ifP3r7AeugrH",
        "outputId": "aa9f6eb4-990c-4478-c2e4-4bf8d2b2b14c"
      },
      "execution_count": null,
      "outputs": [
        {
          "output_type": "execute_result",
          "data": {
            "text/plain": [
              "MLPClassifier(alpha=1e-05, hidden_layer_sizes=(5, 2), random_state=1,\n",
              "              solver='lbfgs')"
            ]
          },
          "metadata": {},
          "execution_count": 134
        }
      ]
    },
    {
      "cell_type": "markdown",
      "source": [
        "### Predecimos algunos valores con los datos entrenados"
      ],
      "metadata": {
        "id": "g9N-hmj6uiMU"
      }
    },
    {
      "cell_type": "code",
      "source": [
        "clf.predict([[2., 2.], [-2., -1.]])\n",
        "# Vemos como calsifico el primer elemento en 1 y el segundo en 0"
      ],
      "metadata": {
        "colab": {
          "base_uri": "https://localhost:8080/"
        },
        "id": "HRS8crsFc2Vp",
        "outputId": "b04a734e-d4d2-413c-ea4c-6f86862b46fd"
      },
      "execution_count": null,
      "outputs": [
        {
          "output_type": "execute_result",
          "data": {
            "text/plain": [
              "array([1, 0])"
            ]
          },
          "metadata": {},
          "execution_count": 135
        }
      ]
    },
    {
      "cell_type": "markdown",
      "source": [
        "## Prueba #2 - datasets"
      ],
      "metadata": {
        "id": "HjG-vjzaxhrs"
      }
    },
    {
      "cell_type": "markdown",
      "source": [
        "### Cargamos una base de datos de sklearn"
      ],
      "metadata": {
        "id": "b6I4bgyav4F8"
      }
    },
    {
      "cell_type": "code",
      "source": [
        "# Importamos la libreria (bases de datos)\n",
        "from sklearn import datasets\n",
        "# Cargamos los datos iris\n",
        "iris = datasets.load_iris()\n",
        "# Datos de entrada (tomamos todas las filas y dos columnas)\n",
        "X = iris.data[:, :2]\n",
        "# Datos de salida\n",
        "y = iris.target"
      ],
      "metadata": {
        "id": "gnBW1EwAcy0P"
      },
      "execution_count": null,
      "outputs": []
    },
    {
      "cell_type": "markdown",
      "source": [
        "### Separamos los datos en entrenamiento y prueba"
      ],
      "metadata": {
        "id": "T18V6C3G5ic0"
      }
    },
    {
      "cell_type": "code",
      "source": [
        "# Importamos libreria (datos entrenamiento y prueba)\n",
        "from sklearn.model_selection import train_test_split\n",
        "# Dividimos nuestros datos en 4 conjuntos dos de entrenamiento y dos de prueba (entrada, salida)\n",
        "X_train, X_test, y_train, y_test = train_test_split(X, y, test_size=0.33, random_state=42)\n",
        "  # Los datos de prueba son 33% de los datos totales"
      ],
      "metadata": {
        "id": "cbqRuelEeKs5"
      },
      "execution_count": null,
      "outputs": []
    },
    {
      "cell_type": "markdown",
      "source": [
        "### Definimos el modelo"
      ],
      "metadata": {
        "id": "6kvPfjZ25nbw"
      }
    },
    {
      "cell_type": "code",
      "source": [
        "# Definimos el modelo MLPClassifier (predecir a que clase pertenecen un conjunto de datos usando redes neuronales)\n",
        "ejemplo = MLPClassifier(solver='lbfgs', alpha=1e-5, hidden_layer_sizes=(5, 2), random_state=1)\n",
        "  # Dos capas ocultas una de 5 neuronas y otra de 2 neuronas"
      ],
      "metadata": {
        "id": "7rQN0-e4euMV"
      },
      "execution_count": null,
      "outputs": []
    },
    {
      "cell_type": "markdown",
      "source": [
        "### Entrenamos los datos"
      ],
      "metadata": {
        "id": "NephbZ-_5sD8"
      }
    },
    {
      "cell_type": "code",
      "source": [
        "ejemplo.fit(X_train, y_train)"
      ],
      "metadata": {
        "colab": {
          "base_uri": "https://localhost:8080/"
        },
        "id": "rz0u1ydU5gBs",
        "outputId": "bdb175b5-071b-4e91-aa75-f95c7dbed864"
      },
      "execution_count": null,
      "outputs": [
        {
          "output_type": "execute_result",
          "data": {
            "text/plain": [
              "MLPClassifier(alpha=1e-05, hidden_layer_sizes=(5, 2), random_state=1,\n",
              "              solver='lbfgs')"
            ]
          },
          "metadata": {},
          "execution_count": 139
        }
      ]
    },
    {
      "cell_type": "markdown",
      "source": [
        "### Predecimos datos, dando como entrada los datos de prueba"
      ],
      "metadata": {
        "id": "S1dh2xjs5v5J"
      }
    },
    {
      "cell_type": "code",
      "source": [
        "y_resultado = ejemplo.predict(X_test)"
      ],
      "metadata": {
        "id": "CPP-345YfQTg"
      },
      "execution_count": null,
      "outputs": []
    },
    {
      "cell_type": "markdown",
      "source": [
        "### Mostramos los datos predichos"
      ],
      "metadata": {
        "id": "J1Q5NlSC58Yr"
      }
    },
    {
      "cell_type": "code",
      "source": [
        "y_resultado"
      ],
      "metadata": {
        "colab": {
          "base_uri": "https://localhost:8080/"
        },
        "id": "U7V-2XUHfob2",
        "outputId": "26a4c251-acfa-4ef0-cf16-3c2054155e4a"
      },
      "execution_count": null,
      "outputs": [
        {
          "output_type": "execute_result",
          "data": {
            "text/plain": [
              "array([1, 0, 2, 1, 2, 0, 1, 2, 2, 1, 2, 0, 0, 0, 0, 1, 2, 1, 1, 2, 0, 1,\n",
              "       0, 2, 2, 2, 2, 2, 0, 0, 0, 0, 2, 0, 0, 2, 1, 0, 0, 0, 1, 1, 2, 0,\n",
              "       0, 1, 2, 2, 2, 2])"
            ]
          },
          "metadata": {},
          "execution_count": 141
        }
      ]
    },
    {
      "cell_type": "markdown",
      "source": [
        "### Mostramos los datos ah obtener (datos de prueba salida), para compararlos con los obtenidos"
      ],
      "metadata": {
        "id": "vZY9XFr36ORN"
      }
    },
    {
      "cell_type": "code",
      "source": [
        "y_test"
      ],
      "metadata": {
        "colab": {
          "base_uri": "https://localhost:8080/"
        },
        "id": "Krdksca_fto-",
        "outputId": "cc6221a4-c097-4f15-f08b-628c1780388f"
      },
      "execution_count": null,
      "outputs": [
        {
          "output_type": "execute_result",
          "data": {
            "text/plain": [
              "array([1, 0, 2, 1, 1, 0, 1, 2, 1, 1, 2, 0, 0, 0, 0, 1, 2, 1, 1, 2, 0, 2,\n",
              "       0, 2, 2, 2, 2, 2, 0, 0, 0, 0, 1, 0, 0, 2, 1, 0, 0, 0, 2, 1, 1, 0,\n",
              "       0, 1, 2, 2, 1, 2])"
            ]
          },
          "metadata": {},
          "execution_count": 142
        }
      ]
    },
    {
      "cell_type": "markdown",
      "source": [
        "## Verificación de datos predichos"
      ],
      "metadata": {
        "id": "Dc9v323k6Yzg"
      }
    },
    {
      "cell_type": "code",
      "source": [
        "# Importamos la libreria (evaluar la precisión de una clasificación)\n",
        "from sklearn.metrics import confusion_matrix"
      ],
      "metadata": {
        "id": "IunZoRkogGeh"
      },
      "execution_count": null,
      "outputs": []
    },
    {
      "cell_type": "markdown",
      "source": [
        "### Aplicamos la matriz\n",
        "Mientras los datos esten mas concentrados en la diagonal principal, mas preciso es el sistema"
      ],
      "metadata": {
        "id": "rHHcjcvZ68EG"
      }
    },
    {
      "cell_type": "code",
      "source": [
        "confusion_matrix(y_test, y_resultado)"
      ],
      "metadata": {
        "colab": {
          "base_uri": "https://localhost:8080/"
        },
        "id": "zsvw1HySgAsi",
        "outputId": "379d936b-dc2c-4054-be03-c05878d22719"
      },
      "execution_count": null,
      "outputs": [
        {
          "output_type": "execute_result",
          "data": {
            "text/plain": [
              "array([[19,  0,  0],\n",
              "       [ 0, 10,  5],\n",
              "       [ 0,  2, 14]])"
            ]
          },
          "metadata": {},
          "execution_count": 144
        }
      ]
    },
    {
      "cell_type": "code",
      "source": [
        "# Importamos la libreria (hallar que tan bueno en porcentaje es nuestra predicción)\n",
        "from sklearn.metrics import accuracy_score"
      ],
      "metadata": {
        "id": "o8u0_qaDhDUe"
      },
      "execution_count": null,
      "outputs": []
    },
    {
      "cell_type": "markdown",
      "source": [
        "### Calculamos nuestro score de predicción"
      ],
      "metadata": {
        "id": "u1ezmIK6ACVr"
      }
    },
    {
      "cell_type": "code",
      "source": [
        "accuracy_score(y_test, y_resultado)"
      ],
      "metadata": {
        "colab": {
          "base_uri": "https://localhost:8080/"
        },
        "id": "p3uZDqZlhGMS",
        "outputId": "a471c7ae-1833-42b7-b335-1b553109deac"
      },
      "execution_count": null,
      "outputs": [
        {
          "output_type": "execute_result",
          "data": {
            "text/plain": [
              "0.86"
            ]
          },
          "metadata": {},
          "execution_count": 146
        }
      ]
    },
    {
      "cell_type": "markdown",
      "source": [
        "## Prueba #3 - Tensorflow\n",
        "Otro metodo para hacer predicciones"
      ],
      "metadata": {
        "id": "0cgxga1wAGD1"
      }
    },
    {
      "cell_type": "code",
      "source": [
        "# Importamos las librerias\n",
        "import tensorflow as tf\n",
        "from tensorflow.keras.models import Sequential\n",
        "from tensorflow.keras.layers import Input, Dropout, Dense\n",
        "from tensorflow.keras.callbacks import EarlyStopping\n",
        "import numpy as np\n",
        "\n",
        "# Definimos el punto máximo y parada\n",
        "cbez = EarlyStopping(monitor='accuracy',\n",
        "                      min_delta=0.01,\n",
        "                      mode='max',\n",
        "                      patience=100,\n",
        "                      )\n",
        "\n",
        "# Agregamos las capas a la red\n",
        "model1 = Sequential()\n",
        "model1.add(Input(shape=(2,)))\n",
        "model1.add(Dense(5, activation='sigmoid'))#'sigmoid'))\n",
        "model1.add(Dropout(0.25))\n",
        "model1.add(Dense(2, activation='sigmoid'))\n",
        "model1.add(Dense(3, activation='sigmoid'))\n",
        "model1.compile(loss='sparse_categorical_crossentropy',\n",
        "              optimizer='adam',\n",
        "              metrics=['accuracy'])\n",
        "#%%\n",
        "\n",
        "# Entrenamos los datos\n",
        "epk1 = 500\n",
        "model1.fit(X_train,\n",
        "           y_train,\n",
        "           epochs=epk1,\n",
        "           callbacks=[cbez],\n",
        "           validation_split=0.2           \n",
        "           )\n",
        "#%%"
      ],
      "metadata": {
        "colab": {
          "base_uri": "https://localhost:8080/"
        },
        "id": "EBmtq4sIjGft",
        "outputId": "cdca3fbd-1002-4fa6-da00-14db02a9ed0e"
      },
      "execution_count": null,
      "outputs": [
        {
          "output_type": "stream",
          "name": "stdout",
          "text": [
            "Epoch 1/500\n",
            "3/3 [==============================] - 1s 98ms/step - loss: 1.1550 - accuracy: 0.3375 - val_loss: 1.2302 - val_accuracy: 0.2000\n",
            "Epoch 2/500\n",
            "3/3 [==============================] - 0s 15ms/step - loss: 1.1672 - accuracy: 0.3375 - val_loss: 1.2274 - val_accuracy: 0.2000\n",
            "Epoch 3/500\n",
            "3/3 [==============================] - 0s 15ms/step - loss: 1.1527 - accuracy: 0.3375 - val_loss: 1.2243 - val_accuracy: 0.2000\n",
            "Epoch 4/500\n",
            "3/3 [==============================] - 0s 15ms/step - loss: 1.1491 - accuracy: 0.3375 - val_loss: 1.2219 - val_accuracy: 0.2000\n",
            "Epoch 5/500\n",
            "3/3 [==============================] - 0s 21ms/step - loss: 1.1523 - accuracy: 0.3375 - val_loss: 1.2196 - val_accuracy: 0.2000\n",
            "Epoch 6/500\n",
            "3/3 [==============================] - 0s 17ms/step - loss: 1.1428 - accuracy: 0.3375 - val_loss: 1.2171 - val_accuracy: 0.2000\n",
            "Epoch 7/500\n",
            "3/3 [==============================] - 0s 17ms/step - loss: 1.1396 - accuracy: 0.3375 - val_loss: 1.2148 - val_accuracy: 0.2000\n",
            "Epoch 8/500\n",
            "3/3 [==============================] - 0s 17ms/step - loss: 1.1465 - accuracy: 0.3375 - val_loss: 1.2123 - val_accuracy: 0.2000\n",
            "Epoch 9/500\n",
            "3/3 [==============================] - 0s 19ms/step - loss: 1.1490 - accuracy: 0.3375 - val_loss: 1.2097 - val_accuracy: 0.2000\n",
            "Epoch 10/500\n",
            "3/3 [==============================] - 0s 17ms/step - loss: 1.1466 - accuracy: 0.3375 - val_loss: 1.2070 - val_accuracy: 0.2000\n",
            "Epoch 11/500\n",
            "3/3 [==============================] - 0s 20ms/step - loss: 1.1435 - accuracy: 0.3375 - val_loss: 1.2044 - val_accuracy: 0.2000\n",
            "Epoch 12/500\n",
            "3/3 [==============================] - 0s 16ms/step - loss: 1.1503 - accuracy: 0.3375 - val_loss: 1.2021 - val_accuracy: 0.2000\n",
            "Epoch 13/500\n",
            "3/3 [==============================] - 0s 17ms/step - loss: 1.1325 - accuracy: 0.3375 - val_loss: 1.1996 - val_accuracy: 0.2000\n",
            "Epoch 14/500\n",
            "3/3 [==============================] - 0s 18ms/step - loss: 1.1374 - accuracy: 0.3375 - val_loss: 1.1971 - val_accuracy: 0.2000\n",
            "Epoch 15/500\n",
            "3/3 [==============================] - 0s 19ms/step - loss: 1.1333 - accuracy: 0.3375 - val_loss: 1.1946 - val_accuracy: 0.2000\n",
            "Epoch 16/500\n",
            "3/3 [==============================] - 0s 20ms/step - loss: 1.1417 - accuracy: 0.3375 - val_loss: 1.1924 - val_accuracy: 0.2000\n",
            "Epoch 17/500\n",
            "3/3 [==============================] - 0s 22ms/step - loss: 1.1389 - accuracy: 0.3375 - val_loss: 1.1903 - val_accuracy: 0.2000\n",
            "Epoch 18/500\n",
            "3/3 [==============================] - 0s 19ms/step - loss: 1.1300 - accuracy: 0.3375 - val_loss: 1.1883 - val_accuracy: 0.2000\n",
            "Epoch 19/500\n",
            "3/3 [==============================] - 0s 16ms/step - loss: 1.1453 - accuracy: 0.3375 - val_loss: 1.1860 - val_accuracy: 0.2000\n",
            "Epoch 20/500\n",
            "3/3 [==============================] - 0s 16ms/step - loss: 1.1409 - accuracy: 0.3375 - val_loss: 1.1839 - val_accuracy: 0.2000\n",
            "Epoch 21/500\n",
            "3/3 [==============================] - 0s 15ms/step - loss: 1.1263 - accuracy: 0.3375 - val_loss: 1.1817 - val_accuracy: 0.2000\n",
            "Epoch 22/500\n",
            "3/3 [==============================] - 0s 17ms/step - loss: 1.1239 - accuracy: 0.3375 - val_loss: 1.1800 - val_accuracy: 0.2000\n",
            "Epoch 23/500\n",
            "3/3 [==============================] - 0s 17ms/step - loss: 1.1211 - accuracy: 0.3375 - val_loss: 1.1784 - val_accuracy: 0.2000\n",
            "Epoch 24/500\n",
            "3/3 [==============================] - 0s 16ms/step - loss: 1.1324 - accuracy: 0.3375 - val_loss: 1.1766 - val_accuracy: 0.2000\n",
            "Epoch 25/500\n",
            "3/3 [==============================] - 0s 16ms/step - loss: 1.1269 - accuracy: 0.3375 - val_loss: 1.1750 - val_accuracy: 0.2000\n",
            "Epoch 26/500\n",
            "3/3 [==============================] - 0s 20ms/step - loss: 1.1168 - accuracy: 0.3375 - val_loss: 1.1736 - val_accuracy: 0.2000\n",
            "Epoch 27/500\n",
            "3/3 [==============================] - 0s 15ms/step - loss: 1.1199 - accuracy: 0.3375 - val_loss: 1.1721 - val_accuracy: 0.2000\n",
            "Epoch 28/500\n",
            "3/3 [==============================] - 0s 16ms/step - loss: 1.1193 - accuracy: 0.3375 - val_loss: 1.1705 - val_accuracy: 0.2000\n",
            "Epoch 29/500\n",
            "3/3 [==============================] - 0s 17ms/step - loss: 1.1239 - accuracy: 0.3375 - val_loss: 1.1690 - val_accuracy: 0.2000\n",
            "Epoch 30/500\n",
            "3/3 [==============================] - 0s 15ms/step - loss: 1.1274 - accuracy: 0.3375 - val_loss: 1.1673 - val_accuracy: 0.2000\n",
            "Epoch 31/500\n",
            "3/3 [==============================] - 0s 18ms/step - loss: 1.1287 - accuracy: 0.3375 - val_loss: 1.1657 - val_accuracy: 0.2000\n",
            "Epoch 32/500\n",
            "3/3 [==============================] - 0s 16ms/step - loss: 1.1198 - accuracy: 0.3375 - val_loss: 1.1643 - val_accuracy: 0.2000\n",
            "Epoch 33/500\n",
            "3/3 [==============================] - 0s 19ms/step - loss: 1.1040 - accuracy: 0.3375 - val_loss: 1.1633 - val_accuracy: 0.2000\n",
            "Epoch 34/500\n",
            "3/3 [==============================] - 0s 17ms/step - loss: 1.1148 - accuracy: 0.3375 - val_loss: 1.1623 - val_accuracy: 0.2000\n",
            "Epoch 35/500\n",
            "3/3 [==============================] - 0s 17ms/step - loss: 1.1141 - accuracy: 0.3375 - val_loss: 1.1610 - val_accuracy: 0.2000\n",
            "Epoch 36/500\n",
            "3/3 [==============================] - 0s 16ms/step - loss: 1.1082 - accuracy: 0.3375 - val_loss: 1.1601 - val_accuracy: 0.2000\n",
            "Epoch 37/500\n",
            "3/3 [==============================] - 0s 21ms/step - loss: 1.1136 - accuracy: 0.3375 - val_loss: 1.1595 - val_accuracy: 0.2000\n",
            "Epoch 38/500\n",
            "3/3 [==============================] - 0s 22ms/step - loss: 1.1116 - accuracy: 0.3375 - val_loss: 1.1587 - val_accuracy: 0.2000\n",
            "Epoch 39/500\n",
            "3/3 [==============================] - 0s 16ms/step - loss: 1.1115 - accuracy: 0.3375 - val_loss: 1.1579 - val_accuracy: 0.2000\n",
            "Epoch 40/500\n",
            "3/3 [==============================] - 0s 17ms/step - loss: 1.1083 - accuracy: 0.3375 - val_loss: 1.1571 - val_accuracy: 0.2000\n",
            "Epoch 41/500\n",
            "3/3 [==============================] - 0s 17ms/step - loss: 1.1107 - accuracy: 0.3375 - val_loss: 1.1563 - val_accuracy: 0.2000\n",
            "Epoch 42/500\n",
            "3/3 [==============================] - 0s 16ms/step - loss: 1.1109 - accuracy: 0.3375 - val_loss: 1.1554 - val_accuracy: 0.2000\n",
            "Epoch 43/500\n",
            "3/3 [==============================] - 0s 16ms/step - loss: 1.1050 - accuracy: 0.3375 - val_loss: 1.1547 - val_accuracy: 0.2000\n",
            "Epoch 44/500\n",
            "3/3 [==============================] - 0s 21ms/step - loss: 1.1127 - accuracy: 0.3375 - val_loss: 1.1539 - val_accuracy: 0.2000\n",
            "Epoch 45/500\n",
            "3/3 [==============================] - 0s 19ms/step - loss: 1.1032 - accuracy: 0.3375 - val_loss: 1.1533 - val_accuracy: 0.2000\n",
            "Epoch 46/500\n",
            "3/3 [==============================] - 0s 16ms/step - loss: 1.1107 - accuracy: 0.3375 - val_loss: 1.1526 - val_accuracy: 0.2000\n",
            "Epoch 47/500\n",
            "3/3 [==============================] - 0s 17ms/step - loss: 1.1089 - accuracy: 0.3375 - val_loss: 1.1518 - val_accuracy: 0.2000\n",
            "Epoch 48/500\n",
            "3/3 [==============================] - 0s 19ms/step - loss: 1.1093 - accuracy: 0.3375 - val_loss: 1.1511 - val_accuracy: 0.2000\n",
            "Epoch 49/500\n",
            "3/3 [==============================] - 0s 17ms/step - loss: 1.1110 - accuracy: 0.3375 - val_loss: 1.1502 - val_accuracy: 0.2000\n",
            "Epoch 50/500\n",
            "3/3 [==============================] - 0s 16ms/step - loss: 1.0980 - accuracy: 0.3375 - val_loss: 1.1492 - val_accuracy: 0.2000\n",
            "Epoch 51/500\n",
            "3/3 [==============================] - 0s 20ms/step - loss: 1.1092 - accuracy: 0.3375 - val_loss: 1.1484 - val_accuracy: 0.2000\n",
            "Epoch 52/500\n",
            "3/3 [==============================] - 0s 15ms/step - loss: 1.1020 - accuracy: 0.3375 - val_loss: 1.1478 - val_accuracy: 0.2000\n",
            "Epoch 53/500\n",
            "3/3 [==============================] - 0s 17ms/step - loss: 1.1007 - accuracy: 0.3375 - val_loss: 1.1472 - val_accuracy: 0.2000\n",
            "Epoch 54/500\n",
            "3/3 [==============================] - 0s 20ms/step - loss: 1.1079 - accuracy: 0.3375 - val_loss: 1.1463 - val_accuracy: 0.2000\n",
            "Epoch 55/500\n",
            "3/3 [==============================] - 0s 17ms/step - loss: 1.1036 - accuracy: 0.3375 - val_loss: 1.1456 - val_accuracy: 0.2000\n",
            "Epoch 56/500\n",
            "3/3 [==============================] - 0s 21ms/step - loss: 1.0948 - accuracy: 0.3375 - val_loss: 1.1449 - val_accuracy: 0.2000\n",
            "Epoch 57/500\n",
            "3/3 [==============================] - 0s 16ms/step - loss: 1.1029 - accuracy: 0.3375 - val_loss: 1.1442 - val_accuracy: 0.2000\n",
            "Epoch 58/500\n",
            "3/3 [==============================] - 0s 24ms/step - loss: 1.1060 - accuracy: 0.3375 - val_loss: 1.1436 - val_accuracy: 0.2000\n",
            "Epoch 59/500\n",
            "3/3 [==============================] - 0s 16ms/step - loss: 1.1040 - accuracy: 0.3375 - val_loss: 1.1431 - val_accuracy: 0.2000\n",
            "Epoch 60/500\n",
            "3/3 [==============================] - 0s 25ms/step - loss: 1.1065 - accuracy: 0.3375 - val_loss: 1.1424 - val_accuracy: 0.2000\n",
            "Epoch 61/500\n",
            "3/3 [==============================] - 0s 16ms/step - loss: 1.1015 - accuracy: 0.3375 - val_loss: 1.1416 - val_accuracy: 0.2000\n",
            "Epoch 62/500\n",
            "3/3 [==============================] - 0s 19ms/step - loss: 1.1009 - accuracy: 0.3375 - val_loss: 1.1408 - val_accuracy: 0.2000\n",
            "Epoch 63/500\n",
            "3/3 [==============================] - 0s 16ms/step - loss: 1.1013 - accuracy: 0.3375 - val_loss: 1.1403 - val_accuracy: 0.2000\n",
            "Epoch 64/500\n",
            "3/3 [==============================] - 0s 18ms/step - loss: 1.0918 - accuracy: 0.3375 - val_loss: 1.1397 - val_accuracy: 0.2000\n",
            "Epoch 65/500\n",
            "3/3 [==============================] - 0s 16ms/step - loss: 1.0861 - accuracy: 0.3375 - val_loss: 1.1393 - val_accuracy: 0.2000\n",
            "Epoch 66/500\n",
            "3/3 [==============================] - 0s 19ms/step - loss: 1.0962 - accuracy: 0.3375 - val_loss: 1.1389 - val_accuracy: 0.2000\n",
            "Epoch 67/500\n",
            "3/3 [==============================] - 0s 19ms/step - loss: 1.0993 - accuracy: 0.3375 - val_loss: 1.1388 - val_accuracy: 0.2000\n",
            "Epoch 68/500\n",
            "3/3 [==============================] - 0s 16ms/step - loss: 1.0970 - accuracy: 0.3375 - val_loss: 1.1388 - val_accuracy: 0.2000\n",
            "Epoch 69/500\n",
            "3/3 [==============================] - 0s 17ms/step - loss: 1.1054 - accuracy: 0.3375 - val_loss: 1.1387 - val_accuracy: 0.2000\n",
            "Epoch 70/500\n",
            "3/3 [==============================] - 0s 16ms/step - loss: 1.0987 - accuracy: 0.3375 - val_loss: 1.1387 - val_accuracy: 0.2000\n",
            "Epoch 71/500\n",
            "3/3 [==============================] - 0s 18ms/step - loss: 1.0996 - accuracy: 0.3375 - val_loss: 1.1384 - val_accuracy: 0.2000\n",
            "Epoch 72/500\n",
            "3/3 [==============================] - 0s 17ms/step - loss: 1.0968 - accuracy: 0.3250 - val_loss: 1.1382 - val_accuracy: 0.2000\n",
            "Epoch 73/500\n",
            "3/3 [==============================] - 0s 16ms/step - loss: 1.1037 - accuracy: 0.3375 - val_loss: 1.1377 - val_accuracy: 0.2000\n",
            "Epoch 74/500\n",
            "3/3 [==============================] - 0s 16ms/step - loss: 1.0855 - accuracy: 0.3875 - val_loss: 1.1375 - val_accuracy: 0.2000\n",
            "Epoch 75/500\n",
            "3/3 [==============================] - 0s 22ms/step - loss: 1.0871 - accuracy: 0.4000 - val_loss: 1.1375 - val_accuracy: 0.2000\n",
            "Epoch 76/500\n",
            "3/3 [==============================] - 0s 18ms/step - loss: 1.1038 - accuracy: 0.3250 - val_loss: 1.1373 - val_accuracy: 0.2000\n",
            "Epoch 77/500\n",
            "3/3 [==============================] - 0s 19ms/step - loss: 1.0991 - accuracy: 0.3875 - val_loss: 1.1372 - val_accuracy: 0.2000\n",
            "Epoch 78/500\n",
            "3/3 [==============================] - 0s 32ms/step - loss: 1.0931 - accuracy: 0.3750 - val_loss: 1.1369 - val_accuracy: 0.2000\n",
            "Epoch 79/500\n",
            "3/3 [==============================] - 0s 20ms/step - loss: 1.0807 - accuracy: 0.3750 - val_loss: 1.1366 - val_accuracy: 0.2000\n",
            "Epoch 80/500\n",
            "3/3 [==============================] - 0s 16ms/step - loss: 1.1018 - accuracy: 0.3375 - val_loss: 1.1362 - val_accuracy: 0.2000\n",
            "Epoch 81/500\n",
            "3/3 [==============================] - 0s 21ms/step - loss: 1.0961 - accuracy: 0.3000 - val_loss: 1.1357 - val_accuracy: 0.2000\n",
            "Epoch 82/500\n",
            "3/3 [==============================] - 0s 19ms/step - loss: 1.0959 - accuracy: 0.3125 - val_loss: 1.1353 - val_accuracy: 0.2000\n",
            "Epoch 83/500\n",
            "3/3 [==============================] - 0s 17ms/step - loss: 1.0890 - accuracy: 0.4375 - val_loss: 1.1347 - val_accuracy: 0.2000\n",
            "Epoch 84/500\n",
            "3/3 [==============================] - 0s 16ms/step - loss: 1.0953 - accuracy: 0.3500 - val_loss: 1.1343 - val_accuracy: 0.2000\n",
            "Epoch 85/500\n",
            "3/3 [==============================] - 0s 19ms/step - loss: 1.0982 - accuracy: 0.3125 - val_loss: 1.1339 - val_accuracy: 0.2000\n",
            "Epoch 86/500\n",
            "3/3 [==============================] - 0s 20ms/step - loss: 1.0922 - accuracy: 0.2875 - val_loss: 1.1337 - val_accuracy: 0.2000\n",
            "Epoch 87/500\n",
            "3/3 [==============================] - 0s 17ms/step - loss: 1.0996 - accuracy: 0.3500 - val_loss: 1.1335 - val_accuracy: 0.2000\n",
            "Epoch 88/500\n",
            "3/3 [==============================] - 0s 15ms/step - loss: 1.0963 - accuracy: 0.3125 - val_loss: 1.1335 - val_accuracy: 0.2000\n",
            "Epoch 89/500\n",
            "3/3 [==============================] - 0s 18ms/step - loss: 1.0977 - accuracy: 0.3000 - val_loss: 1.1333 - val_accuracy: 0.2000\n",
            "Epoch 90/500\n",
            "3/3 [==============================] - 0s 18ms/step - loss: 1.0968 - accuracy: 0.3750 - val_loss: 1.1331 - val_accuracy: 0.2000\n",
            "Epoch 91/500\n",
            "3/3 [==============================] - 0s 19ms/step - loss: 1.0911 - accuracy: 0.3375 - val_loss: 1.1329 - val_accuracy: 0.2000\n",
            "Epoch 92/500\n",
            "3/3 [==============================] - 0s 16ms/step - loss: 1.0939 - accuracy: 0.2750 - val_loss: 1.1327 - val_accuracy: 0.2000\n",
            "Epoch 93/500\n",
            "3/3 [==============================] - 0s 30ms/step - loss: 1.0866 - accuracy: 0.4000 - val_loss: 1.1324 - val_accuracy: 0.2000\n",
            "Epoch 94/500\n",
            "3/3 [==============================] - 0s 15ms/step - loss: 1.0967 - accuracy: 0.3375 - val_loss: 1.1320 - val_accuracy: 0.2000\n",
            "Epoch 95/500\n",
            "3/3 [==============================] - 0s 18ms/step - loss: 1.0950 - accuracy: 0.3250 - val_loss: 1.1317 - val_accuracy: 0.2000\n",
            "Epoch 96/500\n",
            "3/3 [==============================] - 0s 17ms/step - loss: 1.0942 - accuracy: 0.3750 - val_loss: 1.1314 - val_accuracy: 0.2000\n",
            "Epoch 97/500\n",
            "3/3 [==============================] - 0s 20ms/step - loss: 1.0920 - accuracy: 0.3625 - val_loss: 1.1313 - val_accuracy: 0.2000\n",
            "Epoch 98/500\n",
            "3/3 [==============================] - 0s 25ms/step - loss: 1.0950 - accuracy: 0.3250 - val_loss: 1.1313 - val_accuracy: 0.2000\n",
            "Epoch 99/500\n",
            "3/3 [==============================] - 0s 19ms/step - loss: 1.0848 - accuracy: 0.3625 - val_loss: 1.1313 - val_accuracy: 0.2000\n",
            "Epoch 100/500\n",
            "3/3 [==============================] - 0s 16ms/step - loss: 1.0893 - accuracy: 0.4000 - val_loss: 1.1312 - val_accuracy: 0.2000\n",
            "Epoch 101/500\n",
            "3/3 [==============================] - 0s 17ms/step - loss: 1.0788 - accuracy: 0.3750 - val_loss: 1.1312 - val_accuracy: 0.2000\n",
            "Epoch 102/500\n",
            "3/3 [==============================] - 0s 20ms/step - loss: 1.0873 - accuracy: 0.3375 - val_loss: 1.1312 - val_accuracy: 0.2000\n",
            "Epoch 103/500\n",
            "3/3 [==============================] - 0s 17ms/step - loss: 1.0896 - accuracy: 0.3875 - val_loss: 1.1311 - val_accuracy: 0.2000\n",
            "Epoch 104/500\n",
            "3/3 [==============================] - 0s 20ms/step - loss: 1.0889 - accuracy: 0.3875 - val_loss: 1.1308 - val_accuracy: 0.2000\n",
            "Epoch 105/500\n",
            "3/3 [==============================] - 0s 17ms/step - loss: 1.0810 - accuracy: 0.3750 - val_loss: 1.1305 - val_accuracy: 0.2000\n",
            "Epoch 106/500\n",
            "3/3 [==============================] - 0s 18ms/step - loss: 1.0954 - accuracy: 0.3250 - val_loss: 1.1305 - val_accuracy: 0.2000\n",
            "Epoch 107/500\n",
            "3/3 [==============================] - 0s 18ms/step - loss: 1.0833 - accuracy: 0.3375 - val_loss: 1.1305 - val_accuracy: 0.2000\n",
            "Epoch 108/500\n",
            "3/3 [==============================] - 0s 16ms/step - loss: 1.0834 - accuracy: 0.4125 - val_loss: 1.1307 - val_accuracy: 0.2000\n",
            "Epoch 109/500\n",
            "3/3 [==============================] - 0s 17ms/step - loss: 1.0916 - accuracy: 0.3250 - val_loss: 1.1309 - val_accuracy: 0.2000\n",
            "Epoch 110/500\n",
            "3/3 [==============================] - 0s 17ms/step - loss: 1.0826 - accuracy: 0.3875 - val_loss: 1.1310 - val_accuracy: 0.2000\n",
            "Epoch 111/500\n",
            "3/3 [==============================] - 0s 19ms/step - loss: 1.0844 - accuracy: 0.3250 - val_loss: 1.1310 - val_accuracy: 0.2000\n",
            "Epoch 112/500\n",
            "3/3 [==============================] - 0s 15ms/step - loss: 1.0897 - accuracy: 0.3375 - val_loss: 1.1311 - val_accuracy: 0.2000\n",
            "Epoch 113/500\n",
            "3/3 [==============================] - 0s 17ms/step - loss: 1.0974 - accuracy: 0.3250 - val_loss: 1.1312 - val_accuracy: 0.2000\n",
            "Epoch 114/500\n",
            "3/3 [==============================] - 0s 17ms/step - loss: 1.0877 - accuracy: 0.4375 - val_loss: 1.1311 - val_accuracy: 0.2000\n",
            "Epoch 115/500\n",
            "3/3 [==============================] - 0s 18ms/step - loss: 1.0757 - accuracy: 0.3250 - val_loss: 1.1311 - val_accuracy: 0.2000\n",
            "Epoch 116/500\n",
            "3/3 [==============================] - 0s 18ms/step - loss: 1.0882 - accuracy: 0.4000 - val_loss: 1.1313 - val_accuracy: 0.2000\n",
            "Epoch 117/500\n",
            "3/3 [==============================] - 0s 21ms/step - loss: 1.0886 - accuracy: 0.3875 - val_loss: 1.1312 - val_accuracy: 0.2000\n",
            "Epoch 118/500\n",
            "3/3 [==============================] - 0s 16ms/step - loss: 1.0990 - accuracy: 0.3250 - val_loss: 1.1310 - val_accuracy: 0.2000\n",
            "Epoch 119/500\n",
            "3/3 [==============================] - 0s 22ms/step - loss: 1.0833 - accuracy: 0.3250 - val_loss: 1.1306 - val_accuracy: 0.2000\n",
            "Epoch 120/500\n",
            "3/3 [==============================] - 0s 19ms/step - loss: 1.0822 - accuracy: 0.4125 - val_loss: 1.1301 - val_accuracy: 0.2000\n",
            "Epoch 121/500\n",
            "3/3 [==============================] - 0s 18ms/step - loss: 1.0844 - accuracy: 0.4375 - val_loss: 1.1295 - val_accuracy: 0.2000\n",
            "Epoch 122/500\n",
            "3/3 [==============================] - 0s 16ms/step - loss: 1.0870 - accuracy: 0.3625 - val_loss: 1.1292 - val_accuracy: 0.2000\n",
            "Epoch 123/500\n",
            "3/3 [==============================] - 0s 21ms/step - loss: 1.0854 - accuracy: 0.4000 - val_loss: 1.1290 - val_accuracy: 0.2000\n",
            "Epoch 124/500\n",
            "3/3 [==============================] - 0s 17ms/step - loss: 1.0886 - accuracy: 0.3750 - val_loss: 1.1289 - val_accuracy: 0.2000\n",
            "Epoch 125/500\n",
            "3/3 [==============================] - 0s 18ms/step - loss: 1.0872 - accuracy: 0.3625 - val_loss: 1.1287 - val_accuracy: 0.2000\n",
            "Epoch 126/500\n",
            "3/3 [==============================] - 0s 19ms/step - loss: 1.0836 - accuracy: 0.3500 - val_loss: 1.1286 - val_accuracy: 0.2000\n",
            "Epoch 127/500\n",
            "3/3 [==============================] - 0s 19ms/step - loss: 1.0897 - accuracy: 0.3625 - val_loss: 1.1284 - val_accuracy: 0.2000\n",
            "Epoch 128/500\n",
            "3/3 [==============================] - 0s 18ms/step - loss: 1.0862 - accuracy: 0.4250 - val_loss: 1.1283 - val_accuracy: 0.2500\n",
            "Epoch 129/500\n",
            "3/3 [==============================] - 0s 16ms/step - loss: 1.0780 - accuracy: 0.4625 - val_loss: 1.1280 - val_accuracy: 0.2500\n",
            "Epoch 130/500\n",
            "3/3 [==============================] - 0s 16ms/step - loss: 1.0832 - accuracy: 0.5625 - val_loss: 1.1277 - val_accuracy: 0.2500\n",
            "Epoch 131/500\n",
            "3/3 [==============================] - 0s 19ms/step - loss: 1.0906 - accuracy: 0.4625 - val_loss: 1.1274 - val_accuracy: 0.3000\n",
            "Epoch 132/500\n",
            "3/3 [==============================] - 0s 17ms/step - loss: 1.0827 - accuracy: 0.4750 - val_loss: 1.1272 - val_accuracy: 0.3500\n",
            "Epoch 133/500\n",
            "3/3 [==============================] - 0s 17ms/step - loss: 1.0869 - accuracy: 0.4250 - val_loss: 1.1271 - val_accuracy: 0.3500\n",
            "Epoch 134/500\n",
            "3/3 [==============================] - 0s 20ms/step - loss: 1.0835 - accuracy: 0.4500 - val_loss: 1.1270 - val_accuracy: 0.4000\n",
            "Epoch 135/500\n",
            "3/3 [==============================] - 0s 19ms/step - loss: 1.0904 - accuracy: 0.4000 - val_loss: 1.1267 - val_accuracy: 0.4500\n",
            "Epoch 136/500\n",
            "3/3 [==============================] - 0s 19ms/step - loss: 1.0853 - accuracy: 0.4625 - val_loss: 1.1267 - val_accuracy: 0.5000\n",
            "Epoch 137/500\n",
            "3/3 [==============================] - 0s 18ms/step - loss: 1.0913 - accuracy: 0.4625 - val_loss: 1.1267 - val_accuracy: 0.5000\n",
            "Epoch 138/500\n",
            "3/3 [==============================] - 0s 17ms/step - loss: 1.0876 - accuracy: 0.4500 - val_loss: 1.1266 - val_accuracy: 0.5000\n",
            "Epoch 139/500\n",
            "3/3 [==============================] - 0s 25ms/step - loss: 1.0878 - accuracy: 0.4250 - val_loss: 1.1261 - val_accuracy: 0.5000\n",
            "Epoch 140/500\n",
            "3/3 [==============================] - 0s 19ms/step - loss: 1.0845 - accuracy: 0.5000 - val_loss: 1.1258 - val_accuracy: 0.5000\n",
            "Epoch 141/500\n",
            "3/3 [==============================] - 0s 17ms/step - loss: 1.0854 - accuracy: 0.4375 - val_loss: 1.1254 - val_accuracy: 0.5000\n",
            "Epoch 142/500\n",
            "3/3 [==============================] - 0s 20ms/step - loss: 1.0815 - accuracy: 0.4875 - val_loss: 1.1252 - val_accuracy: 0.5000\n",
            "Epoch 143/500\n",
            "3/3 [==============================] - 0s 22ms/step - loss: 1.0818 - accuracy: 0.5250 - val_loss: 1.1250 - val_accuracy: 0.5000\n",
            "Epoch 144/500\n",
            "3/3 [==============================] - 0s 17ms/step - loss: 1.0820 - accuracy: 0.4625 - val_loss: 1.1250 - val_accuracy: 0.5000\n",
            "Epoch 145/500\n",
            "3/3 [==============================] - 0s 19ms/step - loss: 1.0873 - accuracy: 0.4375 - val_loss: 1.1250 - val_accuracy: 0.5000\n",
            "Epoch 146/500\n",
            "3/3 [==============================] - 0s 19ms/step - loss: 1.0861 - accuracy: 0.4625 - val_loss: 1.1252 - val_accuracy: 0.5000\n",
            "Epoch 147/500\n",
            "3/3 [==============================] - 0s 16ms/step - loss: 1.0927 - accuracy: 0.4375 - val_loss: 1.1254 - val_accuracy: 0.5000\n",
            "Epoch 148/500\n",
            "3/3 [==============================] - 0s 17ms/step - loss: 1.0841 - accuracy: 0.4750 - val_loss: 1.1257 - val_accuracy: 0.5000\n",
            "Epoch 149/500\n",
            "3/3 [==============================] - 0s 18ms/step - loss: 1.0876 - accuracy: 0.4625 - val_loss: 1.1255 - val_accuracy: 0.5000\n",
            "Epoch 150/500\n",
            "3/3 [==============================] - 0s 17ms/step - loss: 1.0882 - accuracy: 0.4875 - val_loss: 1.1248 - val_accuracy: 0.4500\n",
            "Epoch 151/500\n",
            "3/3 [==============================] - 0s 17ms/step - loss: 1.0890 - accuracy: 0.4000 - val_loss: 1.1244 - val_accuracy: 0.3500\n",
            "Epoch 152/500\n",
            "3/3 [==============================] - 0s 17ms/step - loss: 1.0770 - accuracy: 0.4375 - val_loss: 1.1242 - val_accuracy: 0.4500\n",
            "Epoch 153/500\n",
            "3/3 [==============================] - 0s 16ms/step - loss: 1.0827 - accuracy: 0.3875 - val_loss: 1.1242 - val_accuracy: 0.4500\n",
            "Epoch 154/500\n",
            "3/3 [==============================] - 0s 20ms/step - loss: 1.0813 - accuracy: 0.4000 - val_loss: 1.1245 - val_accuracy: 0.4500\n",
            "Epoch 155/500\n",
            "3/3 [==============================] - 0s 19ms/step - loss: 1.0791 - accuracy: 0.4250 - val_loss: 1.1247 - val_accuracy: 0.4000\n",
            "Epoch 156/500\n",
            "3/3 [==============================] - 0s 16ms/step - loss: 1.0746 - accuracy: 0.5000 - val_loss: 1.1249 - val_accuracy: 0.3500\n",
            "Epoch 157/500\n",
            "3/3 [==============================] - 0s 17ms/step - loss: 1.0912 - accuracy: 0.4000 - val_loss: 1.1252 - val_accuracy: 0.3500\n",
            "Epoch 158/500\n",
            "3/3 [==============================] - 0s 20ms/step - loss: 1.0888 - accuracy: 0.4500 - val_loss: 1.1251 - val_accuracy: 0.3500\n",
            "Epoch 159/500\n",
            "3/3 [==============================] - 0s 23ms/step - loss: 1.0842 - accuracy: 0.4125 - val_loss: 1.1250 - val_accuracy: 0.3500\n",
            "Epoch 160/500\n",
            "3/3 [==============================] - 0s 16ms/step - loss: 1.0813 - accuracy: 0.3750 - val_loss: 1.1248 - val_accuracy: 0.3500\n",
            "Epoch 161/500\n",
            "3/3 [==============================] - 0s 17ms/step - loss: 1.0806 - accuracy: 0.4375 - val_loss: 1.1247 - val_accuracy: 0.3500\n",
            "Epoch 162/500\n",
            "3/3 [==============================] - 0s 18ms/step - loss: 1.0719 - accuracy: 0.4750 - val_loss: 1.1245 - val_accuracy: 0.3500\n",
            "Epoch 163/500\n",
            "3/3 [==============================] - 0s 20ms/step - loss: 1.0905 - accuracy: 0.4625 - val_loss: 1.1248 - val_accuracy: 0.3500\n",
            "Epoch 164/500\n",
            "3/3 [==============================] - 0s 16ms/step - loss: 1.0809 - accuracy: 0.4500 - val_loss: 1.1251 - val_accuracy: 0.3500\n",
            "Epoch 165/500\n",
            "3/3 [==============================] - 0s 18ms/step - loss: 1.0820 - accuracy: 0.4500 - val_loss: 1.1251 - val_accuracy: 0.4000\n",
            "Epoch 166/500\n",
            "3/3 [==============================] - 0s 16ms/step - loss: 1.0941 - accuracy: 0.4250 - val_loss: 1.1252 - val_accuracy: 0.4500\n",
            "Epoch 167/500\n",
            "3/3 [==============================] - 0s 19ms/step - loss: 1.0853 - accuracy: 0.5125 - val_loss: 1.1252 - val_accuracy: 0.5000\n",
            "Epoch 168/500\n",
            "3/3 [==============================] - 0s 17ms/step - loss: 1.0910 - accuracy: 0.4625 - val_loss: 1.1251 - val_accuracy: 0.5000\n",
            "Epoch 169/500\n",
            "3/3 [==============================] - 0s 18ms/step - loss: 1.0869 - accuracy: 0.4000 - val_loss: 1.1248 - val_accuracy: 0.5000\n",
            "Epoch 170/500\n",
            "3/3 [==============================] - 0s 20ms/step - loss: 1.0745 - accuracy: 0.4500 - val_loss: 1.1246 - val_accuracy: 0.5000\n",
            "Epoch 171/500\n",
            "3/3 [==============================] - 0s 18ms/step - loss: 1.0856 - accuracy: 0.4125 - val_loss: 1.1246 - val_accuracy: 0.5000\n",
            "Epoch 172/500\n",
            "3/3 [==============================] - 0s 18ms/step - loss: 1.0821 - accuracy: 0.4500 - val_loss: 1.1247 - val_accuracy: 0.5000\n",
            "Epoch 173/500\n",
            "3/3 [==============================] - 0s 17ms/step - loss: 1.0757 - accuracy: 0.4875 - val_loss: 1.1242 - val_accuracy: 0.5000\n",
            "Epoch 174/500\n",
            "3/3 [==============================] - 0s 19ms/step - loss: 1.0823 - accuracy: 0.5000 - val_loss: 1.1240 - val_accuracy: 0.5000\n",
            "Epoch 175/500\n",
            "3/3 [==============================] - 0s 19ms/step - loss: 1.0723 - accuracy: 0.4625 - val_loss: 1.1241 - val_accuracy: 0.5000\n",
            "Epoch 176/500\n",
            "3/3 [==============================] - 0s 17ms/step - loss: 1.0666 - accuracy: 0.5125 - val_loss: 1.1240 - val_accuracy: 0.5000\n",
            "Epoch 177/500\n",
            "3/3 [==============================] - 0s 18ms/step - loss: 1.0687 - accuracy: 0.5250 - val_loss: 1.1241 - val_accuracy: 0.5000\n",
            "Epoch 178/500\n",
            "3/3 [==============================] - 0s 20ms/step - loss: 1.0783 - accuracy: 0.4750 - val_loss: 1.1239 - val_accuracy: 0.5000\n",
            "Epoch 179/500\n",
            "3/3 [==============================] - 0s 19ms/step - loss: 1.0813 - accuracy: 0.4875 - val_loss: 1.1237 - val_accuracy: 0.5000\n",
            "Epoch 180/500\n",
            "3/3 [==============================] - 0s 22ms/step - loss: 1.0735 - accuracy: 0.4125 - val_loss: 1.1238 - val_accuracy: 0.5000\n",
            "Epoch 181/500\n",
            "3/3 [==============================] - 0s 17ms/step - loss: 1.0788 - accuracy: 0.4500 - val_loss: 1.1238 - val_accuracy: 0.5000\n",
            "Epoch 182/500\n",
            "3/3 [==============================] - 0s 19ms/step - loss: 1.0772 - accuracy: 0.4750 - val_loss: 1.1242 - val_accuracy: 0.5000\n",
            "Epoch 183/500\n",
            "3/3 [==============================] - 0s 21ms/step - loss: 1.0806 - accuracy: 0.4875 - val_loss: 1.1244 - val_accuracy: 0.5000\n",
            "Epoch 184/500\n",
            "3/3 [==============================] - 0s 17ms/step - loss: 1.0746 - accuracy: 0.4500 - val_loss: 1.1244 - val_accuracy: 0.5000\n",
            "Epoch 185/500\n",
            "3/3 [==============================] - 0s 15ms/step - loss: 1.0887 - accuracy: 0.4375 - val_loss: 1.1241 - val_accuracy: 0.5000\n",
            "Epoch 186/500\n",
            "3/3 [==============================] - 0s 18ms/step - loss: 1.0777 - accuracy: 0.4625 - val_loss: 1.1236 - val_accuracy: 0.5000\n",
            "Epoch 187/500\n",
            "3/3 [==============================] - 0s 19ms/step - loss: 1.0864 - accuracy: 0.4000 - val_loss: 1.1234 - val_accuracy: 0.5000\n",
            "Epoch 188/500\n",
            "3/3 [==============================] - 0s 19ms/step - loss: 1.0800 - accuracy: 0.5250 - val_loss: 1.1233 - val_accuracy: 0.5000\n",
            "Epoch 189/500\n",
            "3/3 [==============================] - 0s 19ms/step - loss: 1.0811 - accuracy: 0.5250 - val_loss: 1.1233 - val_accuracy: 0.5000\n",
            "Epoch 190/500\n",
            "3/3 [==============================] - 0s 17ms/step - loss: 1.0737 - accuracy: 0.5125 - val_loss: 1.1229 - val_accuracy: 0.5000\n",
            "Epoch 191/500\n",
            "3/3 [==============================] - 0s 15ms/step - loss: 1.0743 - accuracy: 0.4625 - val_loss: 1.1226 - val_accuracy: 0.5000\n",
            "Epoch 192/500\n",
            "3/3 [==============================] - 0s 17ms/step - loss: 1.0773 - accuracy: 0.4125 - val_loss: 1.1223 - val_accuracy: 0.5000\n",
            "Epoch 193/500\n",
            "3/3 [==============================] - 0s 17ms/step - loss: 1.0814 - accuracy: 0.5250 - val_loss: 1.1219 - val_accuracy: 0.5000\n",
            "Epoch 194/500\n",
            "3/3 [==============================] - 0s 21ms/step - loss: 1.0813 - accuracy: 0.4500 - val_loss: 1.1215 - val_accuracy: 0.5000\n",
            "Epoch 195/500\n",
            "3/3 [==============================] - 0s 16ms/step - loss: 1.0825 - accuracy: 0.4750 - val_loss: 1.1210 - val_accuracy: 0.5000\n",
            "Epoch 196/500\n",
            "3/3 [==============================] - 0s 17ms/step - loss: 1.0741 - accuracy: 0.5375 - val_loss: 1.1205 - val_accuracy: 0.5000\n",
            "Epoch 197/500\n",
            "3/3 [==============================] - 0s 28ms/step - loss: 1.0778 - accuracy: 0.4375 - val_loss: 1.1198 - val_accuracy: 0.5000\n",
            "Epoch 198/500\n",
            "3/3 [==============================] - 0s 19ms/step - loss: 1.0835 - accuracy: 0.4875 - val_loss: 1.1193 - val_accuracy: 0.5000\n",
            "Epoch 199/500\n",
            "3/3 [==============================] - 0s 25ms/step - loss: 1.0856 - accuracy: 0.4625 - val_loss: 1.1190 - val_accuracy: 0.5000\n",
            "Epoch 200/500\n",
            "3/3 [==============================] - 0s 19ms/step - loss: 1.0788 - accuracy: 0.4625 - val_loss: 1.1186 - val_accuracy: 0.5000\n",
            "Epoch 201/500\n",
            "3/3 [==============================] - 0s 20ms/step - loss: 1.0799 - accuracy: 0.4875 - val_loss: 1.1184 - val_accuracy: 0.5000\n",
            "Epoch 202/500\n",
            "3/3 [==============================] - 0s 18ms/step - loss: 1.0708 - accuracy: 0.5250 - val_loss: 1.1181 - val_accuracy: 0.5000\n",
            "Epoch 203/500\n",
            "3/3 [==============================] - 0s 19ms/step - loss: 1.0817 - accuracy: 0.4500 - val_loss: 1.1184 - val_accuracy: 0.5000\n",
            "Epoch 204/500\n",
            "3/3 [==============================] - 0s 17ms/step - loss: 1.0688 - accuracy: 0.4750 - val_loss: 1.1184 - val_accuracy: 0.5000\n",
            "Epoch 205/500\n",
            "3/3 [==============================] - 0s 19ms/step - loss: 1.0871 - accuracy: 0.5000 - val_loss: 1.1184 - val_accuracy: 0.5000\n",
            "Epoch 206/500\n",
            "3/3 [==============================] - 0s 18ms/step - loss: 1.0717 - accuracy: 0.4750 - val_loss: 1.1184 - val_accuracy: 0.5000\n",
            "Epoch 207/500\n",
            "3/3 [==============================] - 0s 18ms/step - loss: 1.0823 - accuracy: 0.3250 - val_loss: 1.1183 - val_accuracy: 0.5000\n",
            "Epoch 208/500\n",
            "3/3 [==============================] - 0s 17ms/step - loss: 1.0789 - accuracy: 0.4625 - val_loss: 1.1185 - val_accuracy: 0.5000\n",
            "Epoch 209/500\n",
            "3/3 [==============================] - 0s 17ms/step - loss: 1.0837 - accuracy: 0.4750 - val_loss: 1.1187 - val_accuracy: 0.5000\n",
            "Epoch 210/500\n",
            "3/3 [==============================] - 0s 20ms/step - loss: 1.0796 - accuracy: 0.5125 - val_loss: 1.1183 - val_accuracy: 0.5000\n",
            "Epoch 211/500\n",
            "3/3 [==============================] - 0s 18ms/step - loss: 1.0655 - accuracy: 0.5250 - val_loss: 1.1181 - val_accuracy: 0.5000\n",
            "Epoch 212/500\n",
            "3/3 [==============================] - 0s 17ms/step - loss: 1.0761 - accuracy: 0.4875 - val_loss: 1.1178 - val_accuracy: 0.5000\n",
            "Epoch 213/500\n",
            "3/3 [==============================] - 0s 16ms/step - loss: 1.0786 - accuracy: 0.5125 - val_loss: 1.1172 - val_accuracy: 0.5000\n",
            "Epoch 214/500\n",
            "3/3 [==============================] - 0s 20ms/step - loss: 1.0764 - accuracy: 0.4250 - val_loss: 1.1170 - val_accuracy: 0.5000\n",
            "Epoch 215/500\n",
            "3/3 [==============================] - 0s 18ms/step - loss: 1.0695 - accuracy: 0.4875 - val_loss: 1.1171 - val_accuracy: 0.5000\n",
            "Epoch 216/500\n",
            "3/3 [==============================] - 0s 19ms/step - loss: 1.0815 - accuracy: 0.3625 - val_loss: 1.1172 - val_accuracy: 0.5000\n",
            "Epoch 217/500\n",
            "3/3 [==============================] - 0s 21ms/step - loss: 1.0687 - accuracy: 0.5375 - val_loss: 1.1169 - val_accuracy: 0.5000\n",
            "Epoch 218/500\n",
            "3/3 [==============================] - 0s 19ms/step - loss: 1.0801 - accuracy: 0.3875 - val_loss: 1.1170 - val_accuracy: 0.5000\n",
            "Epoch 219/500\n",
            "3/3 [==============================] - 0s 22ms/step - loss: 1.0669 - accuracy: 0.5250 - val_loss: 1.1171 - val_accuracy: 0.5000\n",
            "Epoch 220/500\n",
            "3/3 [==============================] - 0s 21ms/step - loss: 1.0838 - accuracy: 0.4500 - val_loss: 1.1168 - val_accuracy: 0.5000\n",
            "Epoch 221/500\n",
            "3/3 [==============================] - 0s 19ms/step - loss: 1.0908 - accuracy: 0.3875 - val_loss: 1.1164 - val_accuracy: 0.5000\n",
            "Epoch 222/500\n",
            "3/3 [==============================] - 0s 17ms/step - loss: 1.0679 - accuracy: 0.4500 - val_loss: 1.1161 - val_accuracy: 0.5000\n",
            "Epoch 223/500\n",
            "3/3 [==============================] - 0s 17ms/step - loss: 1.0762 - accuracy: 0.4000 - val_loss: 1.1159 - val_accuracy: 0.5000\n",
            "Epoch 224/500\n",
            "3/3 [==============================] - 0s 27ms/step - loss: 1.0695 - accuracy: 0.4375 - val_loss: 1.1158 - val_accuracy: 0.5000\n",
            "Epoch 225/500\n",
            "3/3 [==============================] - 0s 17ms/step - loss: 1.0833 - accuracy: 0.4375 - val_loss: 1.1152 - val_accuracy: 0.5000\n",
            "Epoch 226/500\n",
            "3/3 [==============================] - 0s 19ms/step - loss: 1.0790 - accuracy: 0.4250 - val_loss: 1.1149 - val_accuracy: 0.5000\n",
            "Epoch 227/500\n",
            "3/3 [==============================] - 0s 18ms/step - loss: 1.0760 - accuracy: 0.5250 - val_loss: 1.1140 - val_accuracy: 0.5000\n",
            "Epoch 228/500\n",
            "3/3 [==============================] - 0s 18ms/step - loss: 1.0758 - accuracy: 0.4625 - val_loss: 1.1137 - val_accuracy: 0.5000\n",
            "Epoch 229/500\n",
            "3/3 [==============================] - 0s 17ms/step - loss: 1.0778 - accuracy: 0.4750 - val_loss: 1.1136 - val_accuracy: 0.5000\n",
            "Epoch 230/500\n",
            "3/3 [==============================] - 0s 15ms/step - loss: 1.0707 - accuracy: 0.4625 - val_loss: 1.1133 - val_accuracy: 0.5000\n"
          ]
        },
        {
          "output_type": "execute_result",
          "data": {
            "text/plain": [
              "<keras.callbacks.History at 0x7f2fc87fc9d0>"
            ]
          },
          "metadata": {},
          "execution_count": 147
        }
      ]
    },
    {
      "cell_type": "markdown",
      "source": [
        "### Predecimos los valores"
      ],
      "metadata": {
        "id": "Pmc8uLMxCsAT"
      }
    },
    {
      "cell_type": "code",
      "source": [
        "y_new = np.argmax(model1.predict(X_test), axis=1)\n",
        "y_esperado = y_test\n",
        "y_predicho = y_new"
      ],
      "metadata": {
        "id": "GEwzIOnOCq3c"
      },
      "execution_count": null,
      "outputs": []
    },
    {
      "cell_type": "markdown",
      "source": [
        "### Obtenemos la matriz de presición"
      ],
      "metadata": {
        "id": "nDsL9BEECvUc"
      }
    },
    {
      "cell_type": "code",
      "source": [
        "confusion_matrix(y_esperado,y_predicho)\n"
      ],
      "metadata": {
        "colab": {
          "base_uri": "https://localhost:8080/"
        },
        "id": "MCtD6xqZk1r4",
        "outputId": "bb0ec001-5e2a-445e-d0ad-cc44b0dbd1da"
      },
      "execution_count": null,
      "outputs": [
        {
          "output_type": "execute_result",
          "data": {
            "text/plain": [
              "array([[19,  0,  0],\n",
              "       [ 1, 14,  0],\n",
              "       [ 0, 16,  0]])"
            ]
          },
          "metadata": {},
          "execution_count": 149
        }
      ]
    },
    {
      "cell_type": "markdown",
      "source": [
        "### Vemos el score"
      ],
      "metadata": {
        "id": "a-fkXDhTCzNF"
      }
    },
    {
      "cell_type": "code",
      "source": [
        "accuracy_score(y_esperado, y_predicho)"
      ],
      "metadata": {
        "colab": {
          "base_uri": "https://localhost:8080/"
        },
        "id": "u_jpcBXtlKGd",
        "outputId": "e94e5d74-3709-4d15-9ced-78445887f35a"
      },
      "execution_count": null,
      "outputs": [
        {
          "output_type": "execute_result",
          "data": {
            "text/plain": [
              "0.66"
            ]
          },
          "metadata": {},
          "execution_count": 150
        }
      ]
    }
  ]
}